{
 "cells": [
  {
   "cell_type": "code",
   "execution_count": 1,
   "metadata": {},
   "outputs": [],
   "source": [
    "import pandas as pd\n",
    "import numpy as np\n",
    "import seaborn as sns"
   ]
  },
  {
   "cell_type": "code",
   "execution_count": 2,
   "metadata": {},
   "outputs": [],
   "source": [
    "#Questions I want answered \n",
    "#What decides a players contract amount? Goals, Assists, age, ect,. "
   ]
  },
  {
   "cell_type": "code",
   "execution_count": 3,
   "metadata": {},
   "outputs": [],
   "source": [
    "Contracts = pd.read_excel('NHL_player_contracts_2021.xlsx')\n",
    "Player_statistics = pd.read_excel(\"NHL_playerstats_last3years.xlsx\")"
   ]
  },
  {
   "cell_type": "code",
   "execution_count": 4,
   "metadata": {},
   "outputs": [
    {
     "name": "stdout",
     "output_type": "stream",
     "text": [
      "<class 'pandas.core.frame.DataFrame'>\n",
      "RangeIndex: 300 entries, 0 to 299\n",
      "Data columns (total 11 columns):\n",
      " #   Column     Non-Null Count  Dtype \n",
      "---  ------     --------------  ----- \n",
      " 0   PLAYER     300 non-null    object\n",
      " 1   AGE        300 non-null    int64 \n",
      " 2   POS        300 non-null    object\n",
      " 3   TEAM       300 non-null    object\n",
      " 4   DATE       300 non-null    object\n",
      " 5   TYPE       300 non-null    object\n",
      " 6   EXTENSION  29 non-null     object\n",
      " 7   STRUCTURE  300 non-null    object\n",
      " 8   LENGTH     300 non-null    int64 \n",
      " 9   VALUE      300 non-null    object\n",
      " 10  CAP HIT    300 non-null    object\n",
      "dtypes: int64(2), object(9)\n",
      "memory usage: 25.9+ KB\n"
     ]
    }
   ],
   "source": [
    "Contracts.info()"
   ]
  },
  {
   "cell_type": "code",
   "execution_count": null,
   "metadata": {},
   "outputs": [],
   "source": []
  },
  {
   "cell_type": "raw",
   "metadata": {},
   "source": [
    "Player_statistics.info()"
   ]
  },
  {
   "cell_type": "code",
   "execution_count": null,
   "metadata": {
    "collapsed": true
   },
   "outputs": [],
   "source": [
    "Stats_contract = pd.merge(C)"
   ]
  }
 ],
 "metadata": {
  "kernelspec": {
   "display_name": "Python 3",
   "language": "python",
   "name": "python3"
  },
  "language_info": {
   "codemirror_mode": {
    "name": "ipython",
    "version": 3
   },
   "file_extension": ".py",
   "mimetype": "text/x-python",
   "name": "python",
   "nbconvert_exporter": "python",
   "pygments_lexer": "ipython3",
   "version": "3.7.6"
  }
 },
 "nbformat": 4,
 "nbformat_minor": 4
}
